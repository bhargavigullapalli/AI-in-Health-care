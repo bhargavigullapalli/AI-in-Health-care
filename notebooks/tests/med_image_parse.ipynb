{
 "cells": [
  {
   "cell_type": "markdown",
   "metadata": {},
   "source": [
    "# Test Med Image Parse Plugin\n",
    "\n",
    "This Jupyter notebook demonstrate how to test the med_image_parse.py plugin. Running this notebook allows the code to be tested without deployment.\n",
    "\n",
    "Note: This notebook has the following dependencies:\n",
    "- The MedImageParse model needs to be deployed before running this notebook. See https://aka.ms/MedImageParseDocs for deployment instructions.\n",
    "- A CT image need to be uploaded to the `patient-data` blob container under folder `patient_4/images`.\n",
    "- Update `patient_4/images/manifest.json` with the new CT image."
   ]
  },
  {
   "cell_type": "code",
   "execution_count": null,
   "metadata": {},
   "outputs": [],
   "source": [
    "import os\n",
    "import sys\n",
    "\n",
    "CUR_DIR = os.path.abspath(\"\")\n",
    "ROOT_DIR = os.path.dirname(os.path.dirname(CUR_DIR))\n",
    "SRC_DIR = os.path.join(ROOT_DIR, 'src')\n",
    "\n",
    "sys.path.append(SRC_DIR)\n",
    "print(f\"Added {SRC_DIR} to sys.path\")"
   ]
  },
  {
   "cell_type": "code",
   "execution_count": null,
   "metadata": {},
   "outputs": [],
   "source": [
    "from config import setup_logging\n",
    "from dotenv import load_dotenv\n",
    "\n",
    "setup_logging()\n",
    "load_dotenv(os.path.join(SRC_DIR, '.env'))"
   ]
  },
  {
   "cell_type": "code",
   "execution_count": null,
   "metadata": {},
   "outputs": [],
   "source": [
    "from app import create_app_context\n",
    "\n",
    "\n",
    "app_ctx = create_app_context()"
   ]
  },
  {
   "cell_type": "code",
   "execution_count": null,
   "metadata": {},
   "outputs": [],
   "source": [
    "from config import load_agent_config\n",
    "from data_models.chat_context import ChatContext\n",
    "from data_models.plugin_configuration import PluginConfiguration\n",
    "from scenarios.default.tools.med_image_parse import create_plugin\n",
    "from semantic_kernel import Kernel\n",
    "from semantic_kernel.connectors.ai.open_ai.services.azure_chat_completion import AzureChatCompletion\n",
    "\n",
    "\n",
    "agent_config = load_agent_config(\"default\")\n",
    "radiology_agent_config = [config for config in agent_config if config[\"name\"] == \"Radiology\"][0]\n",
    "url = radiology_agent_config[\"hls_model_endpoint\"].get(\"med_image_parse\")\n",
    "patient_id = \"patient_4\"\n",
    "filename = \"ct_scan.png\"\n",
    "\n",
    "kernel = Kernel()\n",
    "kernel.add_service(\n",
    "    AzureChatCompletion(\n",
    "        service_id=\"default\",\n",
    "        deployment_name=os.environ[\"AZURE_OPENAI_DEPLOYMENT_NAME\"],\n",
    "        api_version=\"2024-10-21\"\n",
    "    )\n",
    ")\n",
    "\n",
    "chat_ctx = ChatContext(\"test-conversation-id\")\n",
    "chat_ctx.patient_id = patient_id\n",
    "\n",
    "plugin_config = PluginConfiguration(\n",
    "    kernel=kernel,\n",
    "    chat_ctx=chat_ctx,\n",
    "    agent_config=radiology_agent_config,\n",
    "    data_access=app_ctx.data_access,\n",
    "    azureml_token_provider=app_ctx.azureml_token_provider)\n",
    "\n",
    "med_image_parse_plugin = create_plugin(plugin_config)\n",
    "await med_image_parse_plugin.calculate_tumor_size(patient_id, filename, \"tumor\")"
   ]
  }
 ],
 "metadata": {
  "kernelspec": {
   "display_name": ".venv",
   "language": "python",
   "name": "python3"
  },
  "language_info": {
   "codemirror_mode": {
    "name": "ipython",
    "version": 3
   },
   "file_extension": ".py",
   "mimetype": "text/x-python",
   "name": "python",
   "nbconvert_exporter": "python",
   "pygments_lexer": "ipython3",
   "version": "3.13.3"
  }
 },
 "nbformat": 4,
 "nbformat_minor": 2
}
