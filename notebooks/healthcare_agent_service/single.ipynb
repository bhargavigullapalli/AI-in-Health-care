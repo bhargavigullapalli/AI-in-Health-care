{
 "cells": [
  {
   "cell_type": "markdown",
   "id": "bac37536",
   "metadata": {},
   "source": [
    "## Healthcare Agent Service Integration\n",
    "\n",
    "Use [Healthcare agent service](https://learn.microsoft.com/en-us/azure/health-bot/overview) Agent's.\n",
    "This notebook assumes the use of the contents of `healthcare_agents.yaml` file in place of `agents.yaml`.\n",
    "Single agent execution is covered in this notebook."
   ]
  },
  {
   "cell_type": "code",
   "execution_count": null,
   "id": "ab69ed9c",
   "metadata": {},
   "outputs": [],
   "source": [
    "import logging\n",
    "import os\n",
    "import sys\n",
    "sys.path.append('../../src')\n",
    "\n",
    "from dotenv import load_dotenv\n",
    "load_dotenv(\"../../src/.env\")\n",
    "\n",
    "from semantic_kernel.contents.utils.author_role import AuthorRole\n",
    "from azure.storage.blob.aio import BlobServiceClient\n",
    "\n",
    "from config import setup_logging\n",
    "from data_models.data_access import DataAccess\n",
    "from data_models.chat_context import ChatContext\n",
    "from healthcare_agents import HealthcareAgent\n",
    "\n",
    "setup_logging(log_level=logging.WARNING)\n",
    "logging.getLogger(\"healthcare_agents\").setLevel(logging.DEBUG)\n",
    "\n",
    "logger = logging.getLogger(__name__)\n"
   ]
  },
  {
   "cell_type": "code",
   "execution_count": null,
   "id": "83df4ea2",
   "metadata": {},
   "outputs": [],
   "source": [
    "# Initialize all agent engagements\n",
    "engagements = {\n",
    "    \"Orchestrator\": {\n",
    "        \"agent_name\": \"Orchestrator\",\n",
    "        \"prompts\": [\n",
    "            \"can you help me prepare for a tumor board meeting later today\",\n",
    "            \"actually, do radiology last, before the summary\",\n",
    "            \"proceed with patient ID patient_4\",\n",
    "        ]\n",
    "    },\n",
    "    \"PatientStatus\": {\n",
    "        \"agent_name\": \"PatientStatus\",\n",
    "        \"prompts\": [\n",
    "            \"can you give me the status of patient ID patient_4\"\n",
    "        ]\n",
    "    },\n",
    "    \"ClinicalTrials\": {\n",
    "        \"agent_name\": \"ClinicalTrials\",\n",
    "        \"prompts\": [\n",
    "            \"can you give me clinical trials suitable for patient ID patient_4\"\n",
    "        ]\n",
    "    },\n",
    "    \"ClinicalGuidelines\": {\n",
    "        \"agent_name\": \"ClinicalGuidelines\",\n",
    "        \"prompts\": [\n",
    "            \"\"\" <insert patient details here>\n",
    "                please give me relevant treatment guidelines for this patient.\n",
    "            \"\"\"\n",
    "        ]\n",
    "    },\n",
    "    \"Radiology\": {\n",
    "        \"agent_name\": \"Radiology\",\n",
    "        \"prompts\": [\n",
    "            \"analyze the latest CT scan for patient ID patient_4\"\n",
    "        ]\n",
    "    },\n",
    "}"
   ]
  },
  {
   "cell_type": "code",
   "execution_count": null,
   "id": "ef30f0ff",
   "metadata": {},
   "outputs": [],
   "source": [
    "# Pick an agent to engage with\n",
    "# engagement = \"Orchestrator\"\n",
    "# engagement = \"PatientStatus\"\n",
    "# engagement = \"ClinicalTrials\"\n",
    "engagement = \"ClinicalGuidelines\"\n",
    "# engagement = \"Radiology\"\n",
    "\n",
    "engage_with_agent = engagements.get(engagement)"
   ]
  },
  {
   "cell_type": "code",
   "execution_count": null,
   "id": "84a6df67",
   "metadata": {},
   "outputs": [],
   "source": [
    "from app import create_app_context\n",
    "\n",
    "\n",
    "app_ctx = create_app_context()\n",
    "agent_name = engage_with_agent[\"agent_name\"]\n",
    "chat_ctx = ChatContext(f\"{agent_name}-test-chat\")\n",
    "healthcare_agent = HealthcareAgent(name=agent_name,\n",
    "                                   chat_ctx=chat_ctx,\n",
    "                                   app_ctx=app_ctx,)"
   ]
  },
  {
   "cell_type": "code",
   "execution_count": null,
   "id": "70665209",
   "metadata": {},
   "outputs": [],
   "source": [
    "# Invoke Agent\n",
    "prompts = engage_with_agent.get(\"prompts\", [])\n",
    "\n",
    "async def chat(message: str):\n",
    "    logger.info(f\"Chatting with [{healthcare_agent.name} agent], sending message: [{message}]\")\n",
    "    async for msg in healthcare_agent.invoke(message=message):\n",
    "        if msg.role != AuthorRole.USER:\n",
    "            print(f\"{msg.role} [{msg.name}]: {msg.content}\")\n",
    "\n",
    "for prompt in prompts:\n",
    "    await chat(message=prompt)\n"
   ]
  }
 ],
 "metadata": {
  "kernelspec": {
   "display_name": ".venv",
   "language": "python",
   "name": "python3"
  },
  "language_info": {
   "codemirror_mode": {
    "name": "ipython",
    "version": 3
   },
   "file_extension": ".py",
   "mimetype": "text/x-python",
   "name": "python",
   "nbconvert_exporter": "python",
   "pygments_lexer": "ipython3",
   "version": "3.13.3"
  }
 },
 "nbformat": 4,
 "nbformat_minor": 5
}
