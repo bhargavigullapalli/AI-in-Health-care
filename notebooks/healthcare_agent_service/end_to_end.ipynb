{
 "cells": [
  {
   "cell_type": "markdown",
   "id": "4103b53e",
   "metadata": {},
   "source": [
    "## Healthcare Agent Service Integration\n",
    "\n",
    "Use [Healthcare agent service](https://learn.microsoft.com/en-us/azure/health-bot/overview) Agent's.\n",
    "This notebook assumes the use of the contents of `healthcare_agents.yaml` file in place of `agents.yaml`.\n",
    "Complete group_chat engagement is covered in this notebook."
   ]
  },
  {
   "cell_type": "code",
   "execution_count": null,
   "id": "9e5fd0ef",
   "metadata": {},
   "outputs": [],
   "source": [
    "# Initial imports and setup\n",
    "\n",
    "import logging\n",
    "import sys\n",
    "\n",
    "sys.path.append('../../src')\n",
    "\n",
    "from dotenv import load_dotenv\n",
    "load_dotenv(\"../../src/.env\")\n",
    "\n",
    "from semantic_kernel.contents.chat_message_content import ChatMessageContent\n",
    "from semantic_kernel.contents.utils.author_role import AuthorRole\n",
    "\n",
    "from app import create_app_context\n",
    "from config import setup_logging\n",
    "from data_models.chat_context import ChatContext\n",
    "from group_chat import create_group_chat\n",
    "\n",
    "\n",
    "setup_logging(logging.WARNING)\n",
    "logging.getLogger('group_chat').setLevel(logging.INFO)\n",
    "logging.getLogger('healthcare_agents').setLevel(logging.INFO)#DEBUG)\n",
    "# logging.getLogger('semantic_kernel').setLevel(logging.INFO)\n",
    "\n",
    "logger = logging.getLogger(__name__)\n",
    "app_ctx = create_app_context()\n",
    "\n",
    "print(\"Ready\")"
   ]
  },
  {
   "cell_type": "code",
   "execution_count": null,
   "id": "e0b18005",
   "metadata": {},
   "outputs": [],
   "source": [
    "# Create group chat, with selection and termination strategies\n",
    "\n",
    "chat, chat_ctx = create_group_chat(\n",
    "    app_ctx,\n",
    "    ChatContext(\"notebook-chat\"),\n",
    ")\n",
    "\n",
    "async def print_chat():\n",
    "    async for response in chat.invoke():\n",
    "        print(f\"# {response.role} - {response.name or '*'}: '{response.content}'\")\n",
    "        if chat.is_complete:\n",
    "            is_complete = True\n",
    "            break\n",
    "        \n",
    "print(\"Initialized group chat\")"
   ]
  },
  {
   "cell_type": "code",
   "execution_count": null,
   "id": "442b2249",
   "metadata": {},
   "outputs": [],
   "source": [
    "message = \"can you help me prepare for a tumor board meeting?\"\n",
    "await chat.add_chat_message(ChatMessageContent(role=AuthorRole.USER, content=message))\n",
    "chat.is_complete = False\n",
    "\n",
    "await print_chat()"
   ]
  },
  {
   "cell_type": "code",
   "execution_count": null,
   "id": "e54ddb7b",
   "metadata": {},
   "outputs": [],
   "source": [
    "message = \"Orchestrator: proceed with patient ID patient_4\"\n",
    "await chat.add_chat_message(ChatMessageContent(role=AuthorRole.USER, content=message))\n",
    "chat.is_complete = False\n",
    "await print_chat()"
   ]
  },
  {
   "cell_type": "code",
   "execution_count": null,
   "id": "61a47f16",
   "metadata": {},
   "outputs": [],
   "source": [
    "message = \"Orchestrator: proceed\"\n",
    "await chat.add_chat_message(ChatMessageContent(role=AuthorRole.USER, content=message))\n",
    "chat.is_complete = False\n",
    "await print_chat()"
   ]
  }
 ],
 "metadata": {
  "kernelspec": {
   "display_name": ".venv",
   "language": "python",
   "name": "python3"
  },
  "language_info": {
   "codemirror_mode": {
    "name": "ipython",
    "version": 3
   },
   "file_extension": ".py",
   "mimetype": "text/x-python",
   "name": "python",
   "nbconvert_exporter": "python",
   "pygments_lexer": "ipython3",
   "version": "3.13.3"
  }
 },
 "nbformat": 4,
 "nbformat_minor": 5
}
